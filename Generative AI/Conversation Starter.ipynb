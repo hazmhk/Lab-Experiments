{
 "cells": [
  {
   "cell_type": "code",
   "execution_count": null,
   "metadata": {
    "colab": {
     "base_uri": "https://localhost:8080/"
    },
    "executionInfo": {
     "elapsed": 8214,
     "status": "ok",
     "timestamp": 1715449219055,
     "user": {
      "displayName": "Hasnain Khan",
      "userId": "04812913403789089505"
     },
     "user_tz": -330
    },
    "id": "a0Hkz3UK8B38",
    "outputId": "b1afa961-f5a9-4375-8d8c-23aee86d017f"
   },
   "outputs": [
    {
     "name": "stdout",
     "output_type": "stream",
     "text": [
      "Requirement already satisfied: openai==0.28 in /usr/local/lib/python3.10/dist-packages (0.28.0)\n",
      "Requirement already satisfied: requests>=2.20 in /usr/local/lib/python3.10/dist-packages (from openai==0.28) (2.31.0)\n",
      "Requirement already satisfied: tqdm in /usr/local/lib/python3.10/dist-packages (from openai==0.28) (4.66.4)\n",
      "Requirement already satisfied: aiohttp in /usr/local/lib/python3.10/dist-packages (from openai==0.28) (3.9.5)\n",
      "Requirement already satisfied: charset-normalizer<4,>=2 in /usr/local/lib/python3.10/dist-packages (from requests>=2.20->openai==0.28) (3.3.2)\n",
      "Requirement already satisfied: idna<4,>=2.5 in /usr/local/lib/python3.10/dist-packages (from requests>=2.20->openai==0.28) (3.7)\n",
      "Requirement already satisfied: urllib3<3,>=1.21.1 in /usr/local/lib/python3.10/dist-packages (from requests>=2.20->openai==0.28) (2.0.7)\n",
      "Requirement already satisfied: certifi>=2017.4.17 in /usr/local/lib/python3.10/dist-packages (from requests>=2.20->openai==0.28) (2024.2.2)\n",
      "Requirement already satisfied: aiosignal>=1.1.2 in /usr/local/lib/python3.10/dist-packages (from aiohttp->openai==0.28) (1.3.1)\n",
      "Requirement already satisfied: attrs>=17.3.0 in /usr/local/lib/python3.10/dist-packages (from aiohttp->openai==0.28) (23.2.0)\n",
      "Requirement already satisfied: frozenlist>=1.1.1 in /usr/local/lib/python3.10/dist-packages (from aiohttp->openai==0.28) (1.4.1)\n",
      "Requirement already satisfied: multidict<7.0,>=4.5 in /usr/local/lib/python3.10/dist-packages (from aiohttp->openai==0.28) (6.0.5)\n",
      "Requirement already satisfied: yarl<2.0,>=1.0 in /usr/local/lib/python3.10/dist-packages (from aiohttp->openai==0.28) (1.9.4)\n",
      "Requirement already satisfied: async-timeout<5.0,>=4.0 in /usr/local/lib/python3.10/dist-packages (from aiohttp->openai==0.28) (4.0.3)\n"
     ]
    }
   ],
   "source": [
    "pip install openai==0.28"
   ]
  },
  {
   "cell_type": "code",
   "execution_count": null,
   "metadata": {
    "colab": {
     "base_uri": "https://localhost:8080/"
    },
    "executionInfo": {
     "elapsed": 999,
     "status": "ok",
     "timestamp": 1715451177256,
     "user": {
      "displayName": "Hasnain Khan",
      "userId": "04812913403789089505"
     },
     "user_tz": -330
    },
    "id": "B_dw8QCCmsqq",
    "outputId": "377de443-0381-4334-cfcd-08cedd1fae56"
   },
   "outputs": [
    {
     "name": "stdout",
     "output_type": "stream",
     "text": [
      "\"Hi Vilma, I noticed that you are a Gemini like me and we both share an interest in art and yoga. I also saw that you have studied in a vocational school and your religion is Parsi. I don't come across many\n"
     ]
    }
   ],
   "source": [
    "import openai\n",
    "import random\n",
    "import time\n",
    "\n",
    "api_key = \"\"\n",
    "\n",
    "def generate_conversation_starter(user_data):\n",
    "    # Extract relevant keywords from user data\n",
    "    interests = user_data['interests']\n",
    "    age = user_data['age']\n",
    "    zodiac_sign = user_data['zodiacSign']\n",
    "    drink_status = user_data['drinkStatus']\n",
    "    user_gender = user_data['userGender']\n",
    "    ed = user_data['education']\n",
    "\n",
    "\n",
    "\n",
    "    prompts = [\n",
    "    f\"Vilma is {age} years old and she is interested in {', '.join(interests)} and She speaks {', '.join(user_data['activeLanguages'])} often and also {', '.join(user_data['languages'])}.\",\n",
    "    f\"Her zodiac sign is {zodiac_sign} and She has studied in a {ed.lower()}, her religion is '{user_data['religion']}'.\",\n",
    "    f\"She is a {user_gender.lower()} who drinks {drink_status.lower()}.\",\n",
    "]\n",
    "\n",
    "\n",
    "\n",
    "    # Shuffle the prompts randomly\n",
    "    random.seed(time.time())\n",
    "    random.shuffle(prompts)\n",
    "    # Generate the sentence\n",
    "    sentence = \"\"\n",
    "    for prompt in prompts:\n",
    "      sentence += prompt + \"\\n\"\n",
    "    sentence += \"Rohan wants to start a conversation with Vilma related to the informtion provided, use a bit of interests, zodiac sign, education, religion, languages, and her rare drinking and smoking habits. Here's a conversation starter he could use:\"\n",
    "    # Initialize OpenAI API\n",
    "    openai.api_key = api_key\n",
    "\n",
    "    # Generate response using ChatGPT\n",
    "    response = openai.Completion.create(\n",
    "        engine=\"gpt-3.5-turbo-instruct\",\n",
    "        prompt=sentence,\n",
    "        temperature=1.0,\n",
    "        max_tokens=50,\n",
    "       #stop=\"\\n\" #stop generation at the end of a sentence\n",
    "    )\n",
    "\n",
    "    # Extract the generated conversation starter from the response\n",
    "    conversation_starter = response.choices[0].text.strip()\n",
    "\n",
    "    return conversation_starter\n",
    "\n",
    "# Sample user data for Vilma\n",
    "vilma_data = {\n",
    "    'firstName': 'Vilma',\n",
    "        'userGender': 'Female',\n",
    "        'age': 39,\n",
    "        'interests': ['Art', 'Yoga', 'Bars', 'Deep chats', 'Hello', 'Nutrition', 'Mindfullness'],\n",
    "        'communicationType': 'Better in person',\n",
    "        'height': 186,\n",
    "        'religion': {'religion': 'Parsi', 'caste': 'Parsi', 'subCaste': 'Parsi'},\n",
    "        'education': 'Vocational school',\n",
    "        'zodiacSign': 'Gemini',\n",
    "        'smokeStatus': 'Socially',\n",
    "        'drinkStatus': 'Rarely',\n",
    "        'workout': 'Active',\n",
    "        'activeLanguages': ['Marathi'],\n",
    "        'languages': ['Urdu'],\n",
    "        'toFind': 'A relationship',\n",
    "        'politicalStatus': 'Left',\n",
    "        'userPronoun': 'She/Her'\n",
    "}\n",
    "\n",
    "# Generate conversation starter for Vilma\n",
    "conversation_starter = generate_conversation_starter(vilma_data)\n",
    "print(conversation_starter)"
   ]
  }
 ],
 "metadata": {
  "colab": {
   "authorship_tag": "ABX9TyPxhn7Js7gdVfbqtXk4OZXG",
   "provenance": []
  },
  "kernelspec": {
   "display_name": "Python 3",
   "name": "python3"
  },
  "language_info": {
   "name": "python"
  }
 },
 "nbformat": 4,
 "nbformat_minor": 0
}
